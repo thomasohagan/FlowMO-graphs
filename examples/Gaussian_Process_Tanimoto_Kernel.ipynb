{
 "cells": [
  {
   "cell_type": "markdown",
   "metadata": {},
   "source": [
    "## Gaussian Process Regression with a Tanimoto Kernel\n",
    "\n",
    "The Tanimoto kernel operates on fingerprint representations of molecules"
   ]
  },
  {
   "cell_type": "code",
   "execution_count": 1,
   "metadata": {},
   "outputs": [],
   "source": [
    "import sys\n",
    "import os\n",
    "sys.path.append('..')  # to import from GP.kernels and property_predition.data_utils\n",
    "\n",
    "import gpflow\n",
    "from gpflow.mean_functions import Constant\n",
    "from gpflow.utilities import print_summary\n",
    "import numpy as np\n",
    "from sklearn.metrics import r2_score, mean_squared_error, mean_absolute_error\n",
    "from sklearn.model_selection import train_test_split\n",
    "\n",
    "from GP.kernels import Tanimoto\n",
    "from property_prediction.data_utils import transform_data, TaskDataLoader, featurise_mols\n"
   ]
  },
  {
   "cell_type": "markdown",
   "metadata": {},
   "source": [
    "We load in SMILES from the photoswitch dataset"
   ]
  },
  {
   "cell_type": "code",
   "execution_count": 2,
   "metadata": {},
   "outputs": [
    {
     "name": "stdout",
     "output_type": "stream",
     "text": [
      "['C[N]1N=NC(=N1)N=NC2=CC=CC=C2', 'C[N]1C=NC(=N1)N=NC2=CC=CC=C2', 'C[N]1C=CC(=N1)N=NC2=CC=CC=C2', 'C[N]1C=C(C)C(=N1)N=NC2=CC=CC=C2', 'C[N]1C=C(C=N1)N=NC2=CC=CC=C2']\n"
     ]
    }
   ],
   "source": [
    "data_loader = TaskDataLoader('Photoswitch', '../datasets/photoswitches.csv')\n",
    "smiles_list, y = data_loader.load_property_data()\n",
    "print(smiles_list[0:5])"
   ]
  },
  {
   "cell_type": "markdown",
   "metadata": {},
   "source": [
    "Featurise the SMILES in smiles_list into Morgan fingerprints. The featurise_mols function requires a list of SMILES and a specification of the representation, one of 'fingerprints', 'fragments' or 'fragprints'"
   ]
  },
  {
   "cell_type": "code",
   "execution_count": 3,
   "metadata": {},
   "outputs": [],
   "source": [
    "X = featurise_mols(smiles_list, 'fingerprints')"
   ]
  },
  {
   "cell_type": "code",
   "execution_count": 4,
   "metadata": {},
   "outputs": [],
   "source": [
    "# We define the Gaussian Process Regression training objective\n",
    "\n",
    "m = None\n",
    "\n",
    "def objective_closure():\n",
    "    return -m.log_marginal_likelihood()"
   ]
  },
  {
   "cell_type": "code",
   "execution_count": 5,
   "metadata": {},
   "outputs": [],
   "source": [
    "X_train, X_test, y_train, y_test = train_test_split(X, y, test_size=0.2)\n",
    "y_train = y_train.reshape(-1, 1)\n",
    "y_test = y_test.reshape(-1, 1)"
   ]
  },
  {
   "cell_type": "code",
   "execution_count": 6,
   "metadata": {},
   "outputs": [],
   "source": [
    "#  We standardise the outputs but leave the inputs unchanged\n",
    "\n",
    "_, y_train, _, y_test, y_scaler = transform_data(X_train, y_train, X_test, y_test)"
   ]
  },
  {
   "cell_type": "code",
   "execution_count": 7,
   "metadata": {},
   "outputs": [
    {
     "name": "stdout",
     "output_type": "stream",
     "text": [
      "╒═════════════════════════╤═══════════╤══════════════════╤═════════╤═════════════╤═════════╤═════════╤═══════════╕\n",
      "│ name                    │ class     │ transform        │ prior   │ trainable   │ shape   │ dtype   │     value │\n",
      "╞═════════════════════════╪═══════════╪══════════════════╪═════════╪═════════════╪═════════╪═════════╪═══════════╡\n",
      "│ GPR.mean_function.c     │ Parameter │ Identity         │         │ True        │ ()      │ float64 │ 0.0847252 │\n",
      "├─────────────────────────┼───────────┼──────────────────┼─────────┼─────────────┼─────────┼─────────┼───────────┤\n",
      "│ GPR.kernel.variance     │ Parameter │ Softplus         │         │ True        │ ()      │ float64 │ 0.492567  │\n",
      "├─────────────────────────┼───────────┼──────────────────┼─────────┼─────────────┼─────────┼─────────┼───────────┤\n",
      "│ GPR.likelihood.variance │ Parameter │ Softplus + Shift │         │ True        │ ()      │ float64 │ 0.01552   │\n",
      "╘═════════════════════════╧═══════════╧══════════════════╧═════════╧═════════════╧═════════╧═════════╧═══════════╛\n"
     ]
    }
   ],
   "source": [
    "X_train = X_train.astype(np.float64)\n",
    "X_test = X_test.astype(np.float64)\n",
    "\n",
    "k = Tanimoto()\n",
    "m = gpflow.models.GPR(data=(X_train, y_train), mean_function=Constant(np.mean(y_train)), kernel=k, noise_variance=1)\n",
    "\n",
    "# Optimise the kernel variance and noise level by the marginal likelihood\n",
    "\n",
    "opt = gpflow.optimizers.Scipy()\n",
    "opt.minimize(objective_closure, m.trainable_variables, options=dict(maxiter=100))\n",
    "print_summary(m)  # Model summary"
   ]
  },
  {
   "cell_type": "code",
   "execution_count": 8,
   "metadata": {},
   "outputs": [],
   "source": [
    "# mean and variance GP prediction\n",
    "\n",
    "y_pred, y_var = m.predict_f(X_test)\n",
    "y_pred = y_scaler.inverse_transform(y_pred)\n",
    "y_test = y_scaler.inverse_transform(y_test)"
   ]
  },
  {
   "cell_type": "code",
   "execution_count": 9,
   "metadata": {},
   "outputs": [],
   "source": [
    "# Compute R^2, RMSE and MAE on test set molecules\n",
    "\n",
    "score = r2_score(y_test, y_pred)\n",
    "rmse = np.sqrt(mean_squared_error(y_test, y_pred))\n",
    "mae = mean_absolute_error(y_test, y_pred)"
   ]
  },
  {
   "cell_type": "code",
   "execution_count": 10,
   "metadata": {},
   "outputs": [
    {
     "name": "stdout",
     "output_type": "stream",
     "text": [
      "\n",
      "R^2: 0.932\n",
      "RMSE: 18.001\n",
      "MAE: 13.087\n"
     ]
    }
   ],
   "source": [
    "print(\"\\nR^2: {:.3f}\".format(score))\n",
    "print(\"RMSE: {:.3f}\".format(rmse))\n",
    "print(\"MAE: {:.3f}\".format(mae))"
   ]
  }
 ],
 "metadata": {
  "kernelspec": {
   "display_name": "Python 3",
   "language": "python",
   "name": "python3"
  },
  "language_info": {
   "codemirror_mode": {
    "name": "ipython",
    "version": 3
   },
   "file_extension": ".py",
   "mimetype": "text/x-python",
   "name": "python",
   "nbconvert_exporter": "python",
   "pygments_lexer": "ipython3",
   "version": "3.7.0"
  }
 },
 "nbformat": 4,
 "nbformat_minor": 4
}
