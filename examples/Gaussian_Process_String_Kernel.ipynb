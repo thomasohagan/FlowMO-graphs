{
 "cells": [
  {
   "cell_type": "markdown",
   "metadata": {},
   "source": [
    "## Gaussian Process Regression with a String Kernel\n",
    "\n",
    "The string kernel operates on the raw SMILES representations of molecules"
   ]
  },
  {
   "cell_type": "code",
   "execution_count": 1,
   "metadata": {},
   "outputs": [],
   "source": [
    "import sys\n",
    "import os\n",
    "sys.path.append('..')  # to import from GP.kernels and property_predition.data_utils\n",
    "\n",
    "import gpflow\n",
    "from gpflow.mean_functions import Constant\n",
    "from gpflow.utilities import print_summary\n",
    "import numpy as np\n",
    "from sklearn.metrics import r2_score, mean_squared_error, mean_absolute_error\n",
    "from sklearn.model_selection import train_test_split\n",
    "from sklearn.preprocessing import StandardScaler\n",
    "\n",
    "from GP.kernels import SSK\n",
    "from property_prediction.data_utils import transform_data, TaskDataLoader, featurise_mols"
   ]
  },
  {
   "cell_type": "markdown",
   "metadata": {},
   "source": [
    "We load in SMILES from the photoswitch dataset"
   ]
  },
  {
   "cell_type": "code",
   "execution_count": 2,
   "metadata": {},
   "outputs": [
    {
     "name": "stdout",
     "output_type": "stream",
     "text": [
      "['C[N]1N=NC(=N1)N=NC2=CC=CC=C2', 'C[N]1C=NC(=N1)N=NC2=CC=CC=C2', 'C[N]1C=CC(=N1)N=NC2=CC=CC=C2', 'C[N]1C=C(C)C(=N1)N=NC2=CC=CC=C2', 'C[N]1C=C(C=N1)N=NC2=CC=CC=C2']\n"
     ]
    }
   ],
   "source": [
    "data_loader = TaskDataLoader('Photoswitch', '../datasets/photoswitches.csv')\n",
    "smiles_list, y = data_loader.load_property_data()\n",
    "smiles=np.array(smiles_list, dtype=object).reshape(-1,1)\n",
    "print(smiles_list[0:5])"
   ]
  },
  {
   "cell_type": "code",
   "execution_count": 3,
   "metadata": {},
   "outputs": [],
   "source": [
    "y = y.reshape(-1, 1)\n",
    "y_scaler = StandardScaler()\n",
    "y_scaled = y_scaler.fit_transform(y)\n",
    "X_train, X_test, y_train, y_test = train_test_split(smiles, y_scaled, test_size=0.2)\n",
    "y_test = y_scaler.inverse_transform(y_test)"
   ]
  },
  {
   "cell_type": "code",
   "execution_count": null,
   "metadata": {},
   "outputs": [
    {
     "name": "stdout",
     "output_type": "stream",
     "text": [
      "WARNING:tensorflow:From ../GP/kernels.py:72: AffineScalar.__init__ (from tensorflow_probability.python.bijectors.affine_scalar) is deprecated and will be removed after 2020-01-01.\n",
      "Instructions for updating:\n",
      "`AffineScalar` bijector is deprecated; please use `tfb.Shift(loc)(tfb.Scale(...))` instead.\n"
     ]
    }
   ],
   "source": [
    "# kernel choices\n",
    "max_subsequence_length=5\n",
    "alphabet = list(set(\"\".join([x[0] for x in X_train])))\n",
    "k = SSK(batch_size=4000, gap_decay=0.46, match_decay=0.99, alphabet=alphabet, max_subsequence_length = max_subsequence_length, maxlen=85)\n",
    "cst = gpflow.kernels.Constant(2.75)\n",
    "m = gpflow.models.GPR(data=(X_train, y_train), mean_function=Constant(-1.7), kernel= cst*k, noise_variance=0.056)\n",
    "loss=m.log_marginal_likelihood()\n",
    "\n",
    "# fit model \n",
    "optimizer = gpflow.optimizers.Scipy()\n",
    "optimizer.minimize(m.training_loss , m.trainable_variables,options=dict(ftol=0.00001),compile=False)"
   ]
  },
  {
   "cell_type": "code",
   "execution_count": null,
   "metadata": {},
   "outputs": [],
   "source": [
    "y_pred, y_var = m.predict_f(X_test)\n",
    "y_pred = y_scaler.inverse_transform(y_pred)"
   ]
  },
  {
   "cell_type": "code",
   "execution_count": null,
   "metadata": {},
   "outputs": [],
   "source": [
    "# Compute R^2, RMSE and MAE on test set molecules\n",
    "\n",
    "score = r2_score(y_test, y_pred)\n",
    "rmse = np.sqrt(mean_squared_error(y_test, y_pred))\n",
    "mae = mean_absolute_error(y_test, y_pred)"
   ]
  },
  {
   "cell_type": "code",
   "execution_count": null,
   "metadata": {},
   "outputs": [],
   "source": [
    "print(\"\\nR^2: {:.3f}\".format(score))\n",
    "print(\"RMSE: {:.3f}\".format(rmse))\n",
    "print(\"MAE: {:.3f}\".format(mae))"
   ]
  }
 ],
 "metadata": {
  "kernelspec": {
   "display_name": "Python 3",
   "language": "python",
   "name": "python3"
  },
  "language_info": {
   "codemirror_mode": {
    "name": "ipython",
    "version": 3
   },
   "file_extension": ".py",
   "mimetype": "text/x-python",
   "name": "python",
   "nbconvert_exporter": "python",
   "pygments_lexer": "ipython3",
   "version": "3.7.0"
  }
 },
 "nbformat": 4,
 "nbformat_minor": 4
}
